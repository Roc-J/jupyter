{
 "cells": [
  {
   "cell_type": "markdown",
   "metadata": {},
   "source": [
    "## 把一张照片转换为字符画，大致需要三步：\n",
    "\n",
    "1. 将图片尺寸压缩到字符画所能接受的量级；  \n",
    "2. 彩色图转换为灰度图，灰度是一个0-255的数值；  \n",
    "3. 建立灰度值与字符集之间的映射关系。"
   ]
  },
  {
   "cell_type": "code",
   "execution_count": 19,
   "metadata": {
    "collapsed": true
   },
   "outputs": [],
   "source": [
    "# python扩展库\n",
    "from PIL import Image # 图像处理模块"
   ]
  },
  {
   "cell_type": "code",
   "execution_count": 20,
   "metadata": {},
   "outputs": [],
   "source": [
    "import urllib  #网络请求模块"
   ]
  },
  {
   "cell_type": "code",
   "execution_count": 21,
   "metadata": {
    "collapsed": true
   },
   "outputs": [],
   "source": [
    "ASCII_CHARS = [' ','#','?','%','.','+','-','*',':',',','@']"
   ]
  },
  {
   "cell_type": "code",
   "execution_count": 33,
   "metadata": {
    "collapsed": true
   },
   "outputs": [],
   "source": [
    "# 压缩图片\n",
    "def scale_image(image,new_width=90):\n",
    "    (original_width,original_height) = image.size\n",
    "    aspect_ratio = original_height/float(original_width)*0.5\n",
    "    new_height = int(new_width*aspect_ratio)\n",
    "    new_image = image.resize((new_width,new_height))\n",
    "    return new_image"
   ]
  },
  {
   "cell_type": "code",
   "execution_count": 34,
   "metadata": {
    "collapsed": true
   },
   "outputs": [],
   "source": [
    "# 灰度模式\n",
    "def image_convert_grayscale(image):\n",
    "    return image.convert('L')"
   ]
  },
  {
   "cell_type": "code",
   "execution_count": 35,
   "metadata": {
    "collapsed": true
   },
   "outputs": [],
   "source": [
    "# 建立图片后（压缩）像素点到字符的映射\n",
    "def map_pixels_to_ascii_char(image,range_width=25):\n",
    "    pixels_in_image = list(image.getdata())\n",
    "    pixels_to_char = [ASCII_CHARS[int(pixel/range_width)] for pixel in pixels_in_image]\n",
    "    return ''.join(pixels_to_char)"
   ]
  },
  {
   "cell_type": "code",
   "execution_count": 36,
   "metadata": {
    "collapsed": true
   },
   "outputs": [],
   "source": [
    "def convert_image_to_ascii(image,new_width=90):\n",
    "    image = scale_image(image,new_width)\n",
    "    image = image_convert_grayscale(image)\n",
    "    \n",
    "    pixels_to_char = map_pixels_to_ascii_char(image)\n",
    "    len_pixels_to_chars = len(pixels_to_char)\n",
    "    \n",
    "    image_ascii = [pixels_to_char[index:index+new_width] for index in range(0,len_pixels_to_chars,new_width)]\n",
    "    return '/n'.join(image_ascii)"
   ]
  },
  {
   "cell_type": "code",
   "execution_count": 37,
   "metadata": {
    "collapsed": true
   },
   "outputs": [],
   "source": [
    "def handle_image_conversion(image_filepath,new_width=90):\n",
    "    image = Image.open(image_filepath)\n",
    "    image_ascii = convert_image_to_ascii(image)\n",
    "    print (image_ascii)"
   ]
  },
  {
   "cell_type": "code",
   "execution_count": 38,
   "metadata": {},
   "outputs": [
    {
     "name": "stdout",
     "output_type": "stream",
     "text": [
      "                                                                                          /n                                                                                          /n                                                                                          /n                                                                                          /n                                                                                          /n                                                                                          /n                                  ?++%#            #%++?                                  /n                                ++,@@@*##        ##*@@@,++                                /n                               :@@@@@@@,,%      %,,@@@@@@@:                               /n                              ?,@@@,,**@@+      +@@@@@@@@@,?                              /n                              .@@@@%%  %%*      ***#??? %%,.                              /n                              .@@@@%%  %%*      *..+,,,***@.                              /n                              ?,@@@--  ---      -,,@@@@@@@,?                              /n                               %,,@@@@@::#      #::@@@@@,,%                               /n                                ++,@@@:??        ??:@@@,++                                /n                                                                                          /n                                  ###?%%%........%%%?###                                  /n                         %%---******************************---%%                         /n                        ?--************************************--?                        /n                         %%-**********************************-%%                         /n                               ?..+--****************--+..?                               /n                                   ??%.++--------++.%??                                   /n          %???#                                                            #???%          /n          %%%%%%%%??###                                             ##??%%%%%%%%          /n        %%%%%%%%%%%%%%%%%%%%%%%%%%%%%%%%%????????%%%%%%%%%%%%%%%%%%%%%%%%%%%%%%%%%        /n       %%%%%%%%%%%%%%%%%%%%%%%%%%%%%%%%%%%%%%%%%%%%%%%%%%%%%%%%%%%%%%%%%%%%%%%%%%%%       /n       %%%%%%%%%%%%%%%%%%%%%%%%%%%%%%%%%%%%%%%%%%%%%%%%%%%%%%%%%%%%%%%%%%%%%%%%%%%%       /n      %%%%%%%%%%%%%%%%%%%%%%%%%%%%%%%%%%%%%%%%%%%%%%%%%%%%%%%%%%%%%%%%%%%%%%%%%%%%%%      /n      #?%%%%%%%%%%%%%%%%%%%%%%%%%%%%%%%%%%%%%%%%%%%%%%%%%%%%%%%%%%%%%%%%%%%%%%%%%%?#      /n                 #??....%%%%%%%%%%%%%%%%%%%%%%%%%%%%%%%%%%%%%%%%%%....??#                 /n                  ??,,,:.%%%%%%%%%%%%%%%%%%%%%%%%%%%%%%%....+++--:::,,??                  /n                  ..@@@,.%%%%%%%%%%%%%-@@@@@@@@@@@@@@@@@@@@@@@@@@@@@@@..                  /n                  ++@@@,.%%%%%%%%%%%%%-@@@@@@@@@@@@@@@@@@@@@@@@@@@@@@@++                  /n                  --@@@,.%%%%%%%%%%%%%-@@@@@@@@@@@@@@@@@@@@@@@@@@@@@@@--                  /n                  --@@@,.%%%%%%%%%%%%%-@@@@@@@@@@@@@@@@@@@@@@@@@@@@@@@--                  /n                  --@@@,.%%%%%%%%%%%%%-@@@@@@@@@@@@@@@@@@@@@@@@@@@@@@@--                  /n                  --@@@,.%%%%%%%%%%%%%-@@@@@@@@@@@@@@@@@@@@@@@@@@@@@@@--                  /n                  --@@@,.%%%%%%%%%%%%%-@@@@@@@@@@@@@@@@@@@@@@@@@@@@@@@--                  /n                  %%@@@@@@@@@@,,,,,,,@@@@@@@@@@@@@@@@@@@@@@@@@@@@@@@@@%%                  /n                  ??,@@@@@@@@@@@@@@@@@@@@@@@@@@@@@@@@@@@@@@@@@@@@@@@@,??                  /n                    *@@@@@@@@@@@@@@@@@@@@@@@@@@@@@@@@@@@@@@@@@@@@@@@@*                    /n                    +@@@@@@@@@@@@@@@@@@@@@@@@@@@@@@@@@@@@@@@@@@@@@@@@+                    /n                    ?,,@@@@@@@@@@@@@@@@@@@@@@@@@@@@@@@@@@@@@@@@@@@@@,?                    /n                     ..@@@@@@@@@@@@@@@@@@@@@@@@@@@@@@@@@@@@@@@@@@@@@.                     /n                     ##:@@@@@@@@@@@@@@@@@@@@@@@@@@@@@@@@@@@@@@@@@@::#                     /n                        -@@@@@@@@@@@@@@@@@@@@@@@@@@@@@@@@@@@@@@@@-                        /n                        #**@@@@@@@@@@@@@@@@@@@@@@@@@@@@@@@@@@@@**#                        /n                           #**@@@@@@@@@@@@@@@@@@@@@@@@@@@@@@**#                           /n                  --?##     ##+,@@@@@@@@@@@@@@@@@@@@@@@@@@,-##      #%--                  /n              ---****++?       ?**,@@@@@@@@@@@@@@@@@@@@,**%       ??+*--*---              /n           **************++?          ?..+++--+++..?          ?++**************           /n          -*****************++%#                          #%++*****************-          /n           ***---*--***************---+..%##  ##%..+---***************--*---*--           \n"
     ]
    }
   ],
   "source": [
    "image_file_path = 'image2ascii.jpg' # 图片的本地名称\n",
    "image_url = \"http://upload.wikimedia.org/wikipedia/en/thumb/9/9c/Tencent_QQ.png/64px-Tencent_QQ.png\" # 图片的网络地址\n",
    "urllib.urlretrieve(image_url, image_file_path) # 将网络图片下载到本地，并重命名\n",
    "handle_image_conversion(image_file_path) # 启动handle_image_conversion()这个总函数"
   ]
  },
  {
   "cell_type": "code",
   "execution_count": null,
   "metadata": {
    "collapsed": true
   },
   "outputs": [],
   "source": []
  },
  {
   "cell_type": "code",
   "execution_count": null,
   "metadata": {
    "collapsed": true
   },
   "outputs": [],
   "source": []
  }
 ],
 "metadata": {
  "kernelspec": {
   "display_name": "Python 2",
   "language": "python",
   "name": "python2"
  },
  "language_info": {
   "codemirror_mode": {
    "name": "ipython",
    "version": 2
   },
   "file_extension": ".py",
   "mimetype": "text/x-python",
   "name": "python",
   "nbconvert_exporter": "python",
   "pygments_lexer": "ipython2",
   "version": "2.7.12"
  }
 },
 "nbformat": 4,
 "nbformat_minor": 2
}
