{
 "cells": [
  {
   "cell_type": "code",
   "execution_count": 4,
   "metadata": {},
   "outputs": [
    {
     "name": "stdout",
     "output_type": "stream",
     "text": [
      "{'\\xe5\\x8c\\x97\\xe4\\xba\\xac\\xe5\\xb8\\x82\\xe6\\xb5\\xb7\\xe6\\xb7\\x80\\xe5\\x8c\\xba': [u'116.298056', u'39.959912']}\n"
     ]
    }
   ],
   "source": [
    "# coding=utf-8\n",
    "'''\n",
    "利用高德地图api实现地址和经纬度的转换\n",
    "'''\n",
    "import requests\n",
    "\n",
    "def geocode(address):\n",
    "    parameters = {'address': address, 'key': 'cb649a25c1f81c1451adbeca73623251'}\n",
    "    base = 'http://restapi.amap.com/v3/geocode/geo'\n",
    "    response = requests.get(base, parameters)\n",
    "    answer = response.json()\n",
    "    location = answer['geocodes'][0]['location'].strip().split(',')\n",
    "    lat = []\n",
    "    lat.append(location[0])\n",
    "    lat.append(location[1])\n",
    "    return lat\n",
    "\n",
    "if __name__=='__main__':\n",
    "    dict = {}\n",
    "    address = '北京市海淀区'\n",
    "    if address not in dict.keys():\n",
    "        dict[address] = geocode(address)\n",
    "    print dict"
   ]
  },
  {
   "cell_type": "code",
   "execution_count": null,
   "metadata": {
    "collapsed": true
   },
   "outputs": [],
   "source": []
  }
 ],
 "metadata": {
  "kernelspec": {
   "display_name": "Python 2",
   "language": "python",
   "name": "python2"
  },
  "language_info": {
   "codemirror_mode": {
    "name": "ipython",
    "version": 2
   },
   "file_extension": ".py",
   "mimetype": "text/x-python",
   "name": "python",
   "nbconvert_exporter": "python",
   "pygments_lexer": "ipython2",
   "version": "2.7.12"
  }
 },
 "nbformat": 4,
 "nbformat_minor": 2
}
