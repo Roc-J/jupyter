{
 "cells": [
  {
   "cell_type": "markdown",
   "metadata": {},
   "source": [
    "## python web框架\n",
    "\n",
    "### python web开发框架\n",
    "\n",
    "* flask:简单，轻量，灵魂性大\n",
    "* django:简单，比flask重，灵活性没有flask好，但时间长\n",
    "* web.py简单，轻量，但是不会再积极维护"
   ]
  },
  {
   "cell_type": "code",
   "execution_count": 1,
   "metadata": {},
   "outputs": [
    {
     "name": "stderr",
     "output_type": "stream",
     "text": [
      " * Running on http://127.0.0.1:5000/ (Press CTRL+C to quit)\n",
      "127.0.0.1 - - [10/Oct/2017 15:12:04] \"GET / HTTP/1.1\" 200 -\n",
      "127.0.0.1 - - [10/Oct/2017 15:12:04] \"GET /favicon.ico HTTP/1.1\" 404 -\n",
      "127.0.0.1 - - [10/Oct/2017 15:12:21] \"GET / HTTP/1.1\" 200 -\n",
      "127.0.0.1 - - [10/Oct/2017 15:12:22] \"GET / HTTP/1.1\" 200 -\n",
      "127.0.0.1 - - [10/Oct/2017 15:12:31] \"GET / HTTP/1.1\" 200 -\n"
     ]
    }
   ],
   "source": [
    "from flask import Flask\n",
    "app = Flask(__name__)\n",
    "\n",
    "@app.route('/')\n",
    "def hello_world():\n",
    "    return 'hello, Roc-J'\n",
    "\n",
    "if __name__ == '__main__':\n",
    "    app.run()"
   ]
  },
  {
   "cell_type": "code",
   "execution_count": null,
   "metadata": {
    "collapsed": true
   },
   "outputs": [],
   "source": []
  }
 ],
 "metadata": {
  "kernelspec": {
   "display_name": "Python 2",
   "language": "python",
   "name": "python2"
  },
  "language_info": {
   "codemirror_mode": {
    "name": "ipython",
    "version": 2
   },
   "file_extension": ".py",
   "mimetype": "text/x-python",
   "name": "python",
   "nbconvert_exporter": "python",
   "pygments_lexer": "ipython2",
   "version": "2.7.13"
  }
 },
 "nbformat": 4,
 "nbformat_minor": 2
}
