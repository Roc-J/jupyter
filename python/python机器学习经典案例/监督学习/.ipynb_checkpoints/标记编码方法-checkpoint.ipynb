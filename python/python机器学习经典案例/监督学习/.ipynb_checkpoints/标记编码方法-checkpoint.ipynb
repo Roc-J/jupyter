{
 "cells": [
  {
   "cell_type": "markdown",
   "metadata": {},
   "source": [
    "在监督学习中，经常需要处理各种各样的标记。  \n",
    "这些标记可能是数字，可能是单词。  \n",
    "如果标记的是数字，那么算法可以直接使用  \n",
    "\n",
    "通常用单词标记训练数据集。标记编码就是要把单词标记转换成数值形式"
   ]
  },
  {
   "cell_type": "code",
   "execution_count": 2,
   "metadata": {},
   "outputs": [
    {
     "name": "stdout",
     "output_type": "stream",
     "text": [
      "\n",
      "Class mapping:\n",
      "audi --> 0\n",
      "bmw --> 1\n",
      "ford --> 2\n",
      "toyota --> 3\n"
     ]
    }
   ],
   "source": [
    "from sklearn import preprocessing\n",
    "\n",
    "# 定义一个标记编码器(label encoder)\n",
    "label_encoder = preprocessing.LabelEncoder()\n",
    "\n",
    "# label_encoder对象知道如何理解单词标记\n",
    "input_classes = ['audi','ford','audi','toyota','ford','bmw']\n",
    "\n",
    "label_encoder.fit(input_classes)\n",
    "\n",
    "print '\\nClass mapping:'\n",
    "for i,item in enumerate(label_encoder.classes_):\n",
    "    print item,'-->',i"
   ]
  },
  {
   "cell_type": "markdown",
   "metadata": {},
   "source": [
    "可以看到，单词被转换成从0开始的索引值。  \n",
    "\n",
    "现在，如果你遇到一组标记，可以非常轻松的转换"
   ]
  },
  {
   "cell_type": "code",
   "execution_count": 3,
   "metadata": {},
   "outputs": [
    {
     "name": "stdout",
     "output_type": "stream",
     "text": [
      "\n",
      "Labels= ['toyota', 'ford', 'audi']\n",
      "Encoded labels =  [3, 2, 0]\n"
     ]
    }
   ],
   "source": [
    "labels = ['toyota','ford','audi']\n",
    "encoded_labels = label_encoder.transform(labels)\n",
    "print '\\nLabels=',labels\n",
    "print 'Encoded labels = ',list(encoded_labels)"
   ]
  },
  {
   "cell_type": "markdown",
   "metadata": {},
   "source": [
    "这种方式比纯手工进行单词与数字的编码要简单的多。  \n",
    "\n",
    "还可以通过数字反转回单词的功能检查结果的正确性"
   ]
  },
  {
   "cell_type": "code",
   "execution_count": 4,
   "metadata": {},
   "outputs": [
    {
     "name": "stdout",
     "output_type": "stream",
     "text": [
      "\n",
      "Encoded labels= [2, 1, 0, 3, 1]\n",
      "\n",
      "Decoded labels= ['ford', 'bmw', 'audi', 'toyota', 'bmw']\n"
     ]
    }
   ],
   "source": [
    "encoded_labels = [2,1,0,3,1]\n",
    "decoded_labels = label_encoder.inverse_transform(encoded_labels)\n",
    "print '\\nEncoded labels=',encoded_labels\n",
    "print '\\nDecoded labels=',list(decoded_labels)"
   ]
  }
 ],
 "metadata": {
  "kernelspec": {
   "display_name": "Python 2",
   "language": "python",
   "name": "python2"
  },
  "language_info": {
   "codemirror_mode": {
    "name": "ipython",
    "version": 2
   },
   "file_extension": ".py",
   "mimetype": "text/x-python",
   "name": "python",
   "nbconvert_exporter": "python",
   "pygments_lexer": "ipython2",
   "version": "2.7.13"
  }
 },
 "nbformat": 4,
 "nbformat_minor": 2
}
