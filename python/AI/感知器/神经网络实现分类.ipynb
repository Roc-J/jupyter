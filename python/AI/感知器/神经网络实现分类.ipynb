{
 "cells": [
  {
   "cell_type": "code",
   "execution_count": 1,
   "metadata": {
    "collapsed": true
   },
   "outputs": [],
   "source": [
    "#-*- coding: utf8 -*-\n",
    "import numpy as np\n",
    "class Perceptron(object):\n",
    "    '''\n",
    "    eta：学习率\n",
    "    n_iter:权重向量的训练次数\n",
    "    w_:神经分叉权重向量\n",
    "    errors_:用于记录神经元判断出错次数\n",
    "    '''\n",
    "    def __init__(self, eta=0.01, n_iter=10):\n",
    "        self.eta = eta\n",
    "        self.n_iter = n_iter\n",
    "        pass\n",
    "    \n",
    "    def net_input(self,X):\n",
    "            '''\n",
    "            做点积\n",
    "            z = w0*1 + w1*x1 +w2*x2+...+wn*xn\n",
    "            '''\n",
    "            return np.dot(X,self.w_[1:])+self.w_[0]\n",
    "            pass\n",
    "        \n",
    "    def predict(self,X):\n",
    "        return np.where(self.net_input(X)>=0.0,1,-1)\n",
    "        pass \n",
    "        \n",
    "    def fit(self, X, y):\n",
    "        '''\n",
    "        输入训练数据，培训神经元，x输入样本向量，y对应样本分类\n",
    "        X:shape[n_samples, n_features]\n",
    "        X:[[1,2,3],[4,5,6]]\n",
    "        n_samples:2\n",
    "        n_features: 3\n",
    "        \n",
    "        y: [1,-1]\n",
    "        '''\n",
    "        \n",
    "        '''\n",
    "        初始化权重向量0\n",
    "        +1 是因为算法提到的w0，也就是步调函数阈值\n",
    "        '''\n",
    "        self.w_ = np.zeros(1 + X.shape[1])\n",
    "        self.errors_ = []\n",
    "        for _ in range(self.n_iter):\n",
    "            errors = 0\n",
    "            '''\n",
    "            X:[[1,2,3],[4,5,6]]\n",
    "            y:[-1,1]\n",
    "            zip(X,y) = [[[1,2,3],1],[[4,5,6],-1]]\n",
    "            '''\n",
    "            for xi, target in zip(X,y):\n",
    "                '''\n",
    "                update = η * (y - y')\n",
    "                '''\n",
    "                update = self.eta*(target - self.predict(xi))\n",
    "                \n",
    "                '''\n",
    "                xi是一个向量\n",
    "                update*xi等价\n",
    "                向量积的相乘\n",
    "                '''\n",
    "                self.w_[1:]+= update*xi\n",
    "                self.w_[0] += update\n",
    "                \n",
    "                errors += int(update != 0.0)\n",
    "                self.errors_.append(errors)\n",
    "                pass \n",
    "            \n",
    "            pass\n",
    "        \n",
    "        pass"
   ]
  },
  {
   "cell_type": "markdown",
   "metadata": {},
   "source": [
    "import pandas as pd  \n",
    "filePath = 'https://archive.ics.uci.edu/ml/machine-learning-databases/iris/iris.data'  \n",
    "df1= pd.read_csv(filePath,header=None)  \n",
    "df1.to_csv('test.csv',index=False,header=None)  "
   ]
  },
  {
   "cell_type": "code",
   "execution_count": 2,
   "metadata": {
    "collapsed": true
   },
   "outputs": [],
   "source": [
    "import pandas as pd\n",
    "df = pd.read_csv('test.csv',header=None)"
   ]
  },
  {
   "cell_type": "code",
   "execution_count": 3,
   "metadata": {},
   "outputs": [
    {
     "data": {
      "text/html": [
       "<div>\n",
       "<table border=\"1\" class=\"dataframe\">\n",
       "  <thead>\n",
       "    <tr style=\"text-align: right;\">\n",
       "      <th></th>\n",
       "      <th>0</th>\n",
       "      <th>1</th>\n",
       "      <th>2</th>\n",
       "      <th>3</th>\n",
       "      <th>4</th>\n",
       "    </tr>\n",
       "  </thead>\n",
       "  <tbody>\n",
       "    <tr>\n",
       "      <th>0</th>\n",
       "      <td>5.1</td>\n",
       "      <td>3.5</td>\n",
       "      <td>1.4</td>\n",
       "      <td>0.2</td>\n",
       "      <td>Iris-setosa</td>\n",
       "    </tr>\n",
       "    <tr>\n",
       "      <th>1</th>\n",
       "      <td>4.9</td>\n",
       "      <td>3.0</td>\n",
       "      <td>1.4</td>\n",
       "      <td>0.2</td>\n",
       "      <td>Iris-setosa</td>\n",
       "    </tr>\n",
       "    <tr>\n",
       "      <th>2</th>\n",
       "      <td>4.7</td>\n",
       "      <td>3.2</td>\n",
       "      <td>1.3</td>\n",
       "      <td>0.2</td>\n",
       "      <td>Iris-setosa</td>\n",
       "    </tr>\n",
       "    <tr>\n",
       "      <th>3</th>\n",
       "      <td>4.6</td>\n",
       "      <td>3.1</td>\n",
       "      <td>1.5</td>\n",
       "      <td>0.2</td>\n",
       "      <td>Iris-setosa</td>\n",
       "    </tr>\n",
       "    <tr>\n",
       "      <th>4</th>\n",
       "      <td>5.0</td>\n",
       "      <td>3.6</td>\n",
       "      <td>1.4</td>\n",
       "      <td>0.2</td>\n",
       "      <td>Iris-setosa</td>\n",
       "    </tr>\n",
       "    <tr>\n",
       "      <th>5</th>\n",
       "      <td>5.4</td>\n",
       "      <td>3.9</td>\n",
       "      <td>1.7</td>\n",
       "      <td>0.4</td>\n",
       "      <td>Iris-setosa</td>\n",
       "    </tr>\n",
       "    <tr>\n",
       "      <th>6</th>\n",
       "      <td>4.6</td>\n",
       "      <td>3.4</td>\n",
       "      <td>1.4</td>\n",
       "      <td>0.3</td>\n",
       "      <td>Iris-setosa</td>\n",
       "    </tr>\n",
       "    <tr>\n",
       "      <th>7</th>\n",
       "      <td>5.0</td>\n",
       "      <td>3.4</td>\n",
       "      <td>1.5</td>\n",
       "      <td>0.2</td>\n",
       "      <td>Iris-setosa</td>\n",
       "    </tr>\n",
       "    <tr>\n",
       "      <th>8</th>\n",
       "      <td>4.4</td>\n",
       "      <td>2.9</td>\n",
       "      <td>1.4</td>\n",
       "      <td>0.2</td>\n",
       "      <td>Iris-setosa</td>\n",
       "    </tr>\n",
       "    <tr>\n",
       "      <th>9</th>\n",
       "      <td>4.9</td>\n",
       "      <td>3.1</td>\n",
       "      <td>1.5</td>\n",
       "      <td>0.1</td>\n",
       "      <td>Iris-setosa</td>\n",
       "    </tr>\n",
       "  </tbody>\n",
       "</table>\n",
       "</div>"
      ],
      "text/plain": [
       "     0    1    2    3            4\n",
       "0  5.1  3.5  1.4  0.2  Iris-setosa\n",
       "1  4.9  3.0  1.4  0.2  Iris-setosa\n",
       "2  4.7  3.2  1.3  0.2  Iris-setosa\n",
       "3  4.6  3.1  1.5  0.2  Iris-setosa\n",
       "4  5.0  3.6  1.4  0.2  Iris-setosa\n",
       "5  5.4  3.9  1.7  0.4  Iris-setosa\n",
       "6  4.6  3.4  1.4  0.3  Iris-setosa\n",
       "7  5.0  3.4  1.5  0.2  Iris-setosa\n",
       "8  4.4  2.9  1.4  0.2  Iris-setosa\n",
       "9  4.9  3.1  1.5  0.1  Iris-setosa"
      ]
     },
     "execution_count": 3,
     "metadata": {},
     "output_type": "execute_result"
    }
   ],
   "source": [
    "df.head(10)"
   ]
  },
  {
   "cell_type": "code",
   "execution_count": 4,
   "metadata": {},
   "outputs": [
    {
     "data": {
      "text/plain": [
       "(150, 5)"
      ]
     },
     "execution_count": 4,
     "metadata": {},
     "output_type": "execute_result"
    }
   ],
   "source": [
    "df.shape"
   ]
  },
  {
   "cell_type": "code",
   "execution_count": 8,
   "metadata": {},
   "outputs": [
    {
     "data": {
      "text/plain": [
       "(100,)"
      ]
     },
     "execution_count": 8,
     "metadata": {},
     "output_type": "execute_result"
    }
   ],
   "source": [
    "import matplotlib.pyplot as plt\n",
    "import numpy as np\n",
    "%matplotlib inline\n",
    "\n",
    "y = df.iloc[0:100,4].values\n",
    "y.shape"
   ]
  },
  {
   "cell_type": "code",
   "execution_count": 9,
   "metadata": {},
   "outputs": [
    {
     "data": {
      "text/plain": [
       "(100,)"
      ]
     },
     "execution_count": 9,
     "metadata": {},
     "output_type": "execute_result"
    }
   ],
   "source": [
    "y = np.where(y == 'Iris-setosa',-1,1)\n",
    "y.shape"
   ]
  },
  {
   "cell_type": "code",
   "execution_count": 10,
   "metadata": {
    "collapsed": true
   },
   "outputs": [],
   "source": [
    "x =df.iloc[0:100,[0,2]].values"
   ]
  },
  {
   "cell_type": "code",
   "execution_count": 11,
   "metadata": {},
   "outputs": [
    {
     "data": {
      "image/png": "[encoded data removed]",
      "text/plain": [
       "<matplotlib.figure.Figure at 0x70f5510>"
      ]
     },
     "metadata": {},
     "output_type": "display_data"
    }
   ],
   "source": [
    "plt.scatter(x[:50,0],x[:50,1],color='red',marker='o',label='setosa')\n",
    "plt.scatter(x[50:100,0],x[50:100,1],color='blue',marker='x',label='versicolor')\n",
    "plt.xlabel(u'花瓣长度',fontproperties='SimHei')\n",
    "plt.ylabel(u'花茎长度',fontproperties='SimHei')\n",
    "plt.legend(loc='upper left')\n",
    "plt.show()"
   ]
  },
  {
   "cell_type": "code",
   "execution_count": 12,
   "metadata": {},
   "outputs": [
    {
     "data": {
      "image/png": "[encoded data removed]",
      "text/plain": [
       "<matplotlib.figure.Figure at 0x7123130>"
      ]
     },
     "metadata": {},
     "output_type": "display_data"
    }
   ],
   "source": [
    "ppn = Perceptron(eta=0.01,n_iter=10)\n",
    "ppn.fit(x,y)\n",
    "plt.plot(range(1,len(ppn.errors_) + 1),ppn.errors_, marker='o')\n",
    "plt.xlabel('Epochs')\n",
    "plt.ylabel(u'错误分类数',fontproperties='SimHei')\n",
    "plt.show()"
   ]
  },
  {
   "cell_type": "code",
   "execution_count": 13,
   "metadata": {
    "collapsed": true
   },
   "outputs": [],
   "source": [
    "from matplotlib.colors import ListedColormap\n",
    "def plot_decision_regions(x,y,classifier,resolution=0.02):\n",
    "    marker = ('s','x','o','v')\n",
    "    colors = ('red','blue','lightgreen','gray','cyan')\n",
    "    cmap = ListedColormap(colors[:len(np.unique(y))])\n",
    "    \n",
    "    x1_min, x1_max = x[:,0].min()-1,x[0:,0].max()\n",
    "    x2_min, x2_max = x[:,1].min()-1,x[0:,1].max()\n",
    "    \n",
    "    xx1,xx2 = np.meshgrid(np.arange(x1_min,x1_max,resolution),\n",
    "                         np.arange(x2_min,x2_max,resolution))\n",
    "    \n",
    "    z = classifier.predict(np.array([xx1.ravel(),xx2.ravel()]).T)\n",
    "    print(xx1.ravel())\n",
    "    print(xx2.ravel())\n",
    "    print(z)\n",
    "    \n",
    "    z = z.reshape(xx1.shape)\n",
    "    plt.contourf(xx1,xx2,z,alpha=0.4,cmap=cmap)\n",
    "    plt.xlim(xx1.min(),xx1.max())\n",
    "    plt.ylim(xx2.min(),xx2.max())\n",
    "    \n",
    "    for idx, cl in enumerate(np.unique(y)):\n",
    "        plt.scatter(x=x[y==cl,0],y=x[y==cl,1],alpha=0.8,c=cmap(idx),marker=marker[idx],label=cl)\n",
    "    "
   ]
  },
  {
   "cell_type": "code",
   "execution_count": 14,
   "metadata": {},
   "outputs": [
    {
     "name": "stdout",
     "output_type": "stream",
     "text": [
      "[ 3.3   3.32  3.34 ...,  6.94  6.96  6.98]\n",
      "[ 0.    0.    0.   ...,  5.08  5.08  5.08]\n",
      "[-1 -1 -1 ...,  1  1  1]\n"
     ]
    },
    {
     "data": {
      "image/png": "[encoded data removed]",
      "text/plain": [
       "<matplotlib.figure.Figure at 0x73bfb70>"
      ]
     },
     "metadata": {},
     "output_type": "display_data"
    }
   ],
   "source": [
    "plot_decision_regions(x,y,ppn,resolution=0.02)"
   ]
  },
  {
   "cell_type": "code",
   "execution_count": 15,
   "metadata": {},
   "outputs": [
    {
     "data": {
      "text/plain": [
       "(100,)"
      ]
     },
     "execution_count": 15,
     "metadata": {},
     "output_type": "execute_result"
    }
   ],
   "source": [
    "y.shape"
   ]
  },
  {
   "cell_type": "code",
   "execution_count": 16,
   "metadata": {},
   "outputs": [
    {
     "name": "stdout",
     "output_type": "stream",
     "text": [
      "[ 3.3   3.32  3.34 ...,  6.94  6.96  6.98]\n",
      "[ 0.    0.    0.   ...,  5.08  5.08  5.08]\n",
      "[-1 -1 -1 ...,  1  1  1]\n"
     ]
    },
    {
     "data": {
      "image/png": "[encoded data removed]",
      "text/plain": [
       "<matplotlib.figure.Figure at 0x73d2a90>"
      ]
     },
     "metadata": {},
     "output_type": "display_data"
    }
   ],
   "source": [
    "plot_decision_regions(x,y,ppn,resolution=0.02)\n",
    "plt.xlabel(u'花茎长度',fontproperties='SimHei')\n",
    "plt.ylabel(u'花瓣长度',fontproperties='SimHei')\n",
    "plt.legend(loc='upper left')\n",
    "plt.show()"
   ]
  },
  {
   "cell_type": "code",
   "execution_count": null,
   "metadata": {
    "collapsed": true
   },
   "outputs": [],
   "source": []
  },
  {
   "cell_type": "code",
   "execution_count": null,
   "metadata": {
    "collapsed": true
   },
   "outputs": [],
   "source": []
  }
 ],
 "metadata": {
  "kernelspec": {
   "display_name": "Python 2",
   "language": "python",
   "name": "python2"
  },
  "language_info": {
   "codemirror_mode": {
    "name": "ipython",
    "version": 2
   },
   "file_extension": ".py",
   "mimetype": "text/x-python",
   "name": "python",
   "nbconvert_exporter": "python",
   "pygments_lexer": "ipython2",
   "version": "2.7.12"
  }
 },
 "nbformat": 4,
 "nbformat_minor": 2
}
