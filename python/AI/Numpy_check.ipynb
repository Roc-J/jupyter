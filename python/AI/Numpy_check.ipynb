{
 "cells": [
  {
   "cell_type": "code",
   "execution_count": 1,
   "metadata": {
    "collapsed": true
   },
   "outputs": [],
   "source": [
    "from numpy import *"
   ]
  },
  {
   "cell_type": "code",
   "execution_count": 2,
   "metadata": {
    "scrolled": true
   },
   "outputs": [
    {
     "data": {
      "text/plain": [
       "array([[ 0.8802819 ,  0.22940465,  0.39051804,  0.40337004],\n",
       "       [ 0.80374439,  0.18239706,  0.46001876,  0.38203162],\n",
       "       [ 0.76411916,  0.11145015,  0.95831771,  0.15979843],\n",
       "       [ 0.88467827,  0.65445775,  0.12532175,  0.07308116]])"
      ]
     },
     "execution_count": 2,
     "metadata": {},
     "output_type": "execute_result"
    }
   ],
   "source": [
    "random.rand(4,4)"
   ]
  },
  {
   "cell_type": "code",
   "execution_count": 3,
   "metadata": {
    "collapsed": true
   },
   "outputs": [],
   "source": [
    "randMat = mat(random.rand(4,4))"
   ]
  },
  {
   "cell_type": "raw",
   "metadata": {},
   "source": []
  },
  {
   "cell_type": "code",
   "execution_count": 4,
   "metadata": {},
   "outputs": [
    {
     "data": {
      "text/plain": [
       "matrix([[-1.54844951,  0.98040087, -0.13507966,  0.6014588 ],\n",
       "        [ 1.40740127,  0.39538745, -0.25143675, -0.48796716],\n",
       "        [ 0.62969572, -1.11215102, -0.53344098,  1.49448088],\n",
       "        [ 0.10761485, -0.82523144,  2.30828029, -1.30111828]])"
      ]
     },
     "execution_count": 4,
     "metadata": {},
     "output_type": "execute_result"
    }
   ],
   "source": [
    "randMat.I"
   ]
  },
  {
   "cell_type": "code",
   "execution_count": 5,
   "metadata": {
    "collapsed": true
   },
   "outputs": [],
   "source": [
    "invRandMat = randMat.I"
   ]
  },
  {
   "cell_type": "code",
   "execution_count": 6,
   "metadata": {
    "scrolled": true
   },
   "outputs": [
    {
     "data": {
      "text/plain": [
       "matrix([[  1.00000000e+00,   5.55111512e-17,  -1.11022302e-16,\n",
       "           0.00000000e+00],\n",
       "        [ -5.55111512e-17,   1.00000000e+00,  -5.55111512e-17,\n",
       "          -2.77555756e-17],\n",
       "        [ -1.66533454e-16,  -1.11022302e-16,   1.00000000e+00,\n",
       "           3.33066907e-16],\n",
       "        [ -2.08166817e-16,   1.38777878e-16,   0.00000000e+00,\n",
       "           1.00000000e+00]])"
      ]
     },
     "execution_count": 6,
     "metadata": {},
     "output_type": "execute_result"
    }
   ],
   "source": [
    "randMat*invRandMat"
   ]
  },
  {
   "cell_type": "code",
   "execution_count": 7,
   "metadata": {
    "collapsed": true
   },
   "outputs": [],
   "source": [
    "myEye = randMat*invRandMat"
   ]
  },
  {
   "cell_type": "code",
   "execution_count": 8,
   "metadata": {
    "scrolled": true
   },
   "outputs": [
    {
     "data": {
      "text/plain": [
       "matrix([[  1.00000000e+00,   5.55111512e-17,  -1.11022302e-16,\n",
       "           0.00000000e+00],\n",
       "        [ -5.55111512e-17,   1.00000000e+00,  -5.55111512e-17,\n",
       "          -2.77555756e-17],\n",
       "        [ -1.66533454e-16,  -1.11022302e-16,   1.00000000e+00,\n",
       "           3.33066907e-16],\n",
       "        [ -2.08166817e-16,   1.38777878e-16,   0.00000000e+00,\n",
       "           1.00000000e+00]])"
      ]
     },
     "execution_count": 8,
     "metadata": {},
     "output_type": "execute_result"
    }
   ],
   "source": [
    "myEye"
   ]
  },
  {
   "cell_type": "code",
   "execution_count": 9,
   "metadata": {
    "scrolled": true
   },
   "outputs": [
    {
     "data": {
      "text/plain": [
       "array([[ 1.,  0.,  0.,  0.],\n",
       "       [ 0.,  1.,  0.,  0.],\n",
       "       [ 0.,  0.,  1.,  0.],\n",
       "       [ 0.,  0.,  0.,  1.]])"
      ]
     },
     "execution_count": 9,
     "metadata": {},
     "output_type": "execute_result"
    }
   ],
   "source": [
    "eye(4)"
   ]
  },
  {
   "cell_type": "code",
   "execution_count": 10,
   "metadata": {},
   "outputs": [
    {
     "data": {
      "text/plain": [
       "matrix([[ 1.,  0.,  0.,  0.],\n",
       "        [ 0.,  1.,  0.,  0.],\n",
       "        [ 0.,  0.,  1.,  0.],\n",
       "        [ 0.,  0.,  0.,  1.]])"
      ]
     },
     "execution_count": 10,
     "metadata": {},
     "output_type": "execute_result"
    }
   ],
   "source": [
    "mat(eye(4))"
   ]
  },
  {
   "cell_type": "raw",
   "metadata": {},
   "source": []
  },
  {
   "cell_type": "code",
   "execution_count": 11,
   "metadata": {},
   "outputs": [
    {
     "data": {
      "text/plain": [
       "matrix([[  2.22044605e-16,   5.55111512e-17,  -1.11022302e-16,\n",
       "           0.00000000e+00],\n",
       "        [ -5.55111512e-17,   0.00000000e+00,  -5.55111512e-17,\n",
       "          -2.77555756e-17],\n",
       "        [ -1.66533454e-16,  -1.11022302e-16,   0.00000000e+00,\n",
       "           3.33066907e-16],\n",
       "        [ -2.08166817e-16,   1.38777878e-16,   0.00000000e+00,\n",
       "           0.00000000e+00]])"
      ]
     },
     "execution_count": 11,
     "metadata": {},
     "output_type": "execute_result"
    }
   ],
   "source": [
    "myEye - mat(eye(4))"
   ]
  }
 ],
 "metadata": {
  "kernelspec": {
   "display_name": "Python 2",
   "language": "python",
   "name": "python2"
  },
  "language_info": {
   "codemirror_mode": {
    "name": "ipython",
    "version": 2
   },
   "file_extension": ".py",
   "mimetype": "text/x-python",
   "name": "python",
   "nbconvert_exporter": "python",
   "pygments_lexer": "ipython2",
   "version": "2.7.12"
  }
 },
 "nbformat": 4,
 "nbformat_minor": 2
}
