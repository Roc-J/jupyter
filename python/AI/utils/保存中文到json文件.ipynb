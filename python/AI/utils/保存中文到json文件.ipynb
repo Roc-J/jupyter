{
 "cells": [
  {
   "cell_type": "code",
   "execution_count": 1,
   "metadata": {},
   "outputs": [
    {
     "name": "stdout",
     "output_type": "stream",
     "text": [
      "{'001': '\\xe7\\xa7\\xa6\\xe6\\x99\\xaf\\xe5\\x9d\\xa4'}\n"
     ]
    }
   ],
   "source": [
    "# -*- coding=utf-8 -*-\n",
    "import json\n",
    "'''\n",
    "保存成json格式数据\n",
    "'''\n",
    "data = {'001':'秦景坤'}\n",
    "\n",
    "def store(data):\n",
    "    with open('data.json','w') as f:\n",
    "        f.write(json.dumps(data,ensure_ascii=False,indent=2))\n",
    "\n",
    "if __name__ == '__main__':\n",
    "    store(data)\n",
    "    print data"
   ]
  }
 ],
 "metadata": {
  "kernelspec": {
   "display_name": "Python 2",
   "language": "python",
   "name": "python2"
  },
  "language_info": {
   "codemirror_mode": {
    "name": "ipython",
    "version": 2
   },
   "file_extension": ".py",
   "mimetype": "text/x-python",
   "name": "python",
   "nbconvert_exporter": "python",
   "pygments_lexer": "ipython2",
   "version": "2.7.12"
  }
 },
 "nbformat": 4,
 "nbformat_minor": 2
}
